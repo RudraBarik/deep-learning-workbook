{
 "cells": [
  {
   "cell_type": "markdown",
   "metadata": {
    "nbpresent": {
     "id": "78a5f605-1c0b-4917-b674-96a94be1e8f7"
    }
   },
   "source": [
    "# Handwritten Digit Recognition"
   ]
  },
  {
   "cell_type": "markdown",
   "metadata": {
    "nbpresent": {
     "id": "80f0d6de-5c5c-4236-ae28-0d200b50c1e9"
    }
   },
   "source": [
    "## Step 1: Define the Problem & Collect Data"
   ]
  },
  {
   "cell_type": "markdown",
   "metadata": {},
   "source": [
    "**Q**: What are you trying to predict?<br/>\n",
    "**A**: Classify images of handwritten digits into their 10 categories (0 to 9).\n",
    "\n",
    "\n",
    "**Q**: What will your input data be?<br/>\n",
    "**A**: Grayscale images of handwritten digits (28x28 pixels).\n",
    "\n",
    "\n",
    "**Q**: What type of problem are you facing?<br/>\n",
    "**A**: Binary classification\n",
    "\n",
    "\n",
    "**Q**: What is the size of your dataset?<br/>\n",
    "**A**: There are 60,000 training samples and 10,000 test samples."
   ]
  },
  {
   "cell_type": "code",
   "execution_count": 1,
   "metadata": {},
   "outputs": [
    {
     "name": "stderr",
     "output_type": "stream",
     "text": [
      "Using TensorFlow backend.\n",
      "/home/ubuntu/anaconda3/envs/tensorflow_p36/lib/python3.6/importlib/_bootstrap.py:219: RuntimeWarning: compiletime version 3.5 of module 'tensorflow.python.framework.fast_tensor_util' does not match runtime version 3.6\n",
      "  return f(*args, **kwds)\n"
     ]
    }
   ],
   "source": [
    "from keras.datasets import mnist\n",
    "(train_images, train_labels), (test_images, test_labels) = mnist.load_data()"
   ]
  },
  {
   "cell_type": "markdown",
   "metadata": {
    "nbpresent": {
     "id": "9e1b20b9-299a-4862-a5aa-41223e17270e"
    }
   },
   "source": [
    "## Step 2: Pick Success Metrics"
   ]
  },
  {
   "cell_type": "markdown",
   "metadata": {},
   "source": [
    "**Q**: What is your metric for success?<br/>\n",
    "**A**: Accuracy\n",
    "\n",
    "**Q**: What value of your success metric are you aiming for?<br/>\n",
    "**A**: 90%"
   ]
  },
  {
   "cell_type": "markdown",
   "metadata": {
    "nbpresent": {
     "id": "c1a8ae3f-a685-45a0-8205-d7561c12b165"
    }
   },
   "source": [
    "## Step 3: Pick an Evaluation Protocol and Prepare Your Data"
   ]
  },
  {
   "cell_type": "markdown",
   "metadata": {},
   "source": [
    "**Q**: What approach are going to follow for validation?<br/>\n",
    "**A**: Hold out validation.\n",
    "\n",
    "**Q**: Does your data require normalization or scaling?<br/>\n",
    "**A**: Yes, pixel values are in the range \\[0,255\\] and need to be scaled down to \\[0,1\\].\n",
    "\n",
    "**Q**: What is the training/validation/test split?<br/>\n",
    "**A**: 75-25 training/validation split.\n",
    "Training:   45,000 samples\n",
    "Validation: 15,000 samples\n",
    "Test:       10,000 samples\n",
    "\n",
    "**Q**: Can/should the data be randomized before splitting?<br/>\n",
    "**A**: Not required. It's already randomized.\n",
    "\n",
    "**Q**: Can you come up with new features using existing ones to make the problem easier?<br/>\n",
    "**A**: Not required."
   ]
  },
  {
   "cell_type": "code",
   "execution_count": 2,
   "metadata": {},
   "outputs": [],
   "source": [
    "train_images = train_images.reshape((60000, 28 * 28))\n",
    "train_images = train_images.astype('float32') / 255\n",
    "test_images = test_images.reshape((10000, 28 * 28))\n",
    "test_images = test_images.astype('float32') / 255\n",
    "\n",
    "from keras.utils import to_categorical\n",
    "\n",
    "partial_train_images = train_images[:45000]\n",
    "partial_train_labels = train_labels[:45000]\n",
    "\n",
    "validation_images = train_images[45000:]\n",
    "validation_labels = train_labels[45000:]\n",
    "\n",
    "partial_train_labels = to_categorical(partial_train_labels)\n",
    "validation_labels = to_categorical(validation_labels)\n",
    "test_labels = to_categorical(test_labels)"
   ]
  },
  {
   "cell_type": "markdown",
   "metadata": {},
   "source": [
    "## Step 4: Develop the First Model"
   ]
  },
  {
   "cell_type": "markdown",
   "metadata": {
    "nbpresent": {
     "id": "43e5b08d-da9a-41fc-8355-adefe6033d2a"
    }
   },
   "source": [
    "The first goal is to develop a model that is capable of beating a dumb baseline. There are 3 key choices to be made:\n",
    "1. Last-layer activation function\n",
    "2. Loss function\n",
    "3. Optimization configuration (generally, `rmsprop` is good enough).\n",
    "\n",
    "<table>\n",
    "    <tr>\n",
    "        <th>Problem Type</th>\n",
    "        <th>Last-layer Activation</th>\n",
    "        <th>Loss Function</th>\n",
    "    </tr>\n",
    "    <tr>\n",
    "        <td>Binary Classification</td>\n",
    "        <td>`sigmoid`</td>\n",
    "        <td>`binary_crossentropy`</td>\n",
    "    </tr>\n",
    "    <tr>\n",
    "        <td>Multi-class, single-label classification</td>\n",
    "        <td>`softmax`</td>\n",
    "        <td>`categorical_crossentropy`</td>\n",
    "    </tr>\n",
    "    <tr>\n",
    "        <td>Multi-class, multi-label classification</td>\n",
    "        <td>`sigmoid`</td>\n",
    "        <td>`binary_crossentropy`</td>\n",
    "    </tr>\n",
    "    <tr>\n",
    "        <td>Regression to arbitrary values</td>\n",
    "        <td>None</td>\n",
    "        <td>`mse`</td>\n",
    "    </tr>\n",
    "    <tr>\n",
    "        <td>Regression to values in `[0,1]`</td>\n",
    "        <td>`sigmoid`</td>\n",
    "        <td>`mse` or `binary_crossentropy`</td>\n",
    "    </tr>\n",
    "</table>"
   ]
  },
  {
   "cell_type": "code",
   "execution_count": 10,
   "metadata": {
    "nbpresent": {
     "id": "15d0abd7-e433-43cf-a9be-492f47c2578f"
    }
   },
   "outputs": [
    {
     "name": "stdout",
     "output_type": "stream",
     "text": [
      "Train on 45000 samples, validate on 15000 samples\n",
      "Epoch 1/12\n",
      "45000/45000 [==============================] - 1s 32us/step - loss: 0.5381 - acc: 0.8570 - val_loss: 0.2888 - val_acc: 0.9197\n",
      "Epoch 2/12\n",
      "45000/45000 [==============================] - 1s 29us/step - loss: 0.2610 - acc: 0.9255 - val_loss: 0.2376 - val_acc: 0.9326\n",
      "Epoch 3/12\n",
      "45000/45000 [==============================] - 1s 29us/step - loss: 0.2157 - acc: 0.9382 - val_loss: 0.2041 - val_acc: 0.9427\n",
      "Epoch 4/12\n",
      "45000/45000 [==============================] - 1s 29us/step - loss: 0.1875 - acc: 0.9467 - val_loss: 0.1866 - val_acc: 0.9471\n",
      "Epoch 5/12\n",
      "45000/45000 [==============================] - 1s 29us/step - loss: 0.1657 - acc: 0.9524 - val_loss: 0.1819 - val_acc: 0.9479\n",
      "Epoch 6/12\n",
      "45000/45000 [==============================] - 1s 29us/step - loss: 0.1493 - acc: 0.9566 - val_loss: 0.1630 - val_acc: 0.9536\n",
      "Epoch 7/12\n",
      "45000/45000 [==============================] - 1s 29us/step - loss: 0.1370 - acc: 0.9601 - val_loss: 0.1582 - val_acc: 0.9543\n",
      "Epoch 8/12\n",
      "45000/45000 [==============================] - 1s 29us/step - loss: 0.1256 - acc: 0.9635 - val_loss: 0.1554 - val_acc: 0.9552\n",
      "Epoch 9/12\n",
      "45000/45000 [==============================] - 1s 29us/step - loss: 0.1166 - acc: 0.9654 - val_loss: 0.1504 - val_acc: 0.9571\n",
      "Epoch 10/12\n",
      "45000/45000 [==============================] - 1s 29us/step - loss: 0.1087 - acc: 0.9678 - val_loss: 0.1464 - val_acc: 0.9579\n",
      "Epoch 11/12\n",
      "45000/45000 [==============================] - 1s 29us/step - loss: 0.1019 - acc: 0.9700 - val_loss: 0.1429 - val_acc: 0.9598\n",
      "Epoch 12/12\n",
      "45000/45000 [==============================] - 1s 29us/step - loss: 0.0959 - acc: 0.9724 - val_loss: 0.1429 - val_acc: 0.9597\n"
     ]
    }
   ],
   "source": [
    "from keras import models\n",
    "from keras import layers\n",
    "\n",
    "network = models.Sequential()\n",
    "network.add(layers.Dense(32, activation='relu', input_shape=(28 * 28, )))\n",
    "network.add(layers.Dense(10, activation='softmax'))\n",
    "\n",
    "network.compile(optimizer='rmsprop', loss='categorical_crossentropy', metrics=['accuracy'])\n",
    "history = network.fit(\n",
    "    partial_train_images, \n",
    "    partial_train_labels, \n",
    "    epochs=12, \n",
    "    batch_size=128, \n",
    "    validation_data=(validation_images, validation_labels))"
   ]
  },
  {
   "cell_type": "code",
   "execution_count": 11,
   "metadata": {},
   "outputs": [
    {
     "data": {
      "image/png": "[encoded data removed]",
      "text/plain": [
       "<matplotlib.figure.Figure at 0x7f633e761fd0>"
      ]
     },
     "metadata": {},
     "output_type": "display_data"
    },
    {
     "data": {
      "image/png": "[encoded data removed]",
      "text/plain": [
       "<matplotlib.figure.Figure at 0x7f633e73a2e8>"
      ]
     },
     "metadata": {},
     "output_type": "display_data"
    }
   ],
   "source": [
    "import matplotlib.pyplot as plt\n",
    "\n",
    "acc = history.history['acc']\n",
    "loss = history.history['loss']\n",
    "val_acc = history.history['val_acc']\n",
    "val_loss = history.history['val_loss']\n",
    "\n",
    "epochs = range(1, len(acc) + 1)\n",
    "\n",
    "plt.plot(epochs, acc, 'bo', label='Training acc')\n",
    "plt.plot(epochs, val_acc, 'b', label='Validation acc')\n",
    "plt.title('Training and validation accuracy')\n",
    "plt.xlabel('Epochs')\n",
    "plt.ylabel('Accuracy')\n",
    "plt.margins(0.05)\n",
    "\n",
    "plt.figure()\n",
    "\n",
    "plt.plot(epochs, loss, 'bo', label='Training loss')\n",
    "plt.plot(epochs, val_loss, 'b', label='Validation loss')\n",
    "plt.title('Training and validation loss')\n",
    "plt.xlabel('Epochs')\n",
    "plt.ylabel('Loss')\n",
    "plt.margins(0.05)\n",
    "\n",
    "plt.show()"
   ]
  },
  {
   "cell_type": "markdown",
   "metadata": {},
   "source": [
    "## Step 5: Develop a Model That Overfits\n",
    "\n",
    "The final objective is to find the balance between:\n",
    "* Optimization and generalization\n",
    "* Under-fitting and over-fitting\n",
    "* Under-capacity and over-capacity\n",
    "\n",
    "To figure out how big a model is required, you must develop a model that overfits, using one or more of the following approaches:\n",
    "* Add layers\n",
    "* Makes layers bigger\n",
    "* Train for more epochs\n",
    "\n",
    "Plot the values of the loss function and the success metrics on the training and validation datasets to identify where the model starts over-fitting."
   ]
  },
  {
   "cell_type": "code",
   "execution_count": 19,
   "metadata": {},
   "outputs": [
    {
     "name": "stdout",
     "output_type": "stream",
     "text": [
      "Train on 45000 samples, validate on 15000 samples\n",
      "Epoch 1/30\n",
      "45000/45000 [==============================] - 3s 68us/step - loss: 0.9741 - acc: 0.9023 - val_loss: 0.4274 - val_acc: 0.9457\n",
      "Epoch 2/30\n",
      "45000/45000 [==============================] - 2s 55us/step - loss: 0.3378 - acc: 0.9556 - val_loss: 0.3159 - val_acc: 0.9505\n",
      "Epoch 3/30\n",
      "45000/45000 [==============================] - 2s 55us/step - loss: 0.2495 - acc: 0.9656 - val_loss: 0.2324 - val_acc: 0.9653\n",
      "Epoch 4/30\n",
      "45000/45000 [==============================] - 2s 55us/step - loss: 0.2103 - acc: 0.9693 - val_loss: 0.2208 - val_acc: 0.9634\n",
      "Epoch 5/30\n",
      "45000/45000 [==============================] - 2s 55us/step - loss: 0.1885 - acc: 0.9732 - val_loss: 0.2104 - val_acc: 0.9657\n",
      "Epoch 6/30\n",
      "45000/45000 [==============================] - 2s 55us/step - loss: 0.1704 - acc: 0.9754 - val_loss: 0.1806 - val_acc: 0.9707\n",
      "Epoch 7/30\n",
      "45000/45000 [==============================] - 2s 55us/step - loss: 0.1595 - acc: 0.9773 - val_loss: 0.1783 - val_acc: 0.9717\n",
      "Epoch 8/30\n",
      "45000/45000 [==============================] - 2s 55us/step - loss: 0.1508 - acc: 0.9783 - val_loss: 0.2036 - val_acc: 0.9616\n",
      "Epoch 9/30\n",
      "45000/45000 [==============================] - 3s 56us/step - loss: 0.1429 - acc: 0.9790 - val_loss: 0.1810 - val_acc: 0.9683\n",
      "Epoch 10/30\n",
      "45000/45000 [==============================] - 2s 55us/step - loss: 0.1389 - acc: 0.9801 - val_loss: 0.1775 - val_acc: 0.9687\n",
      "Epoch 11/30\n",
      "45000/45000 [==============================] - 2s 54us/step - loss: 0.1336 - acc: 0.9807 - val_loss: 0.1635 - val_acc: 0.9728\n",
      "Epoch 12/30\n",
      "45000/45000 [==============================] - 2s 55us/step - loss: 0.1293 - acc: 0.9813 - val_loss: 0.1788 - val_acc: 0.9668\n",
      "Epoch 13/30\n",
      "45000/45000 [==============================] - 2s 55us/step - loss: 0.1258 - acc: 0.9816 - val_loss: 0.1665 - val_acc: 0.9710\n",
      "Epoch 14/30\n",
      "45000/45000 [==============================] - 2s 54us/step - loss: 0.1230 - acc: 0.9823 - val_loss: 0.1517 - val_acc: 0.9759\n",
      "Epoch 15/30\n",
      "45000/45000 [==============================] - 2s 54us/step - loss: 0.1224 - acc: 0.9817 - val_loss: 0.1571 - val_acc: 0.9730\n",
      "Epoch 16/30\n",
      "45000/45000 [==============================] - 2s 55us/step - loss: 0.1186 - acc: 0.9829 - val_loss: 0.1632 - val_acc: 0.9715\n",
      "Epoch 17/30\n",
      "45000/45000 [==============================] - 2s 55us/step - loss: 0.1174 - acc: 0.9831 - val_loss: 0.2373 - val_acc: 0.9483\n",
      "Epoch 18/30\n",
      "45000/45000 [==============================] - 2s 54us/step - loss: 0.1148 - acc: 0.9832 - val_loss: 0.1663 - val_acc: 0.9697\n",
      "Epoch 19/30\n",
      "45000/45000 [==============================] - 2s 54us/step - loss: 0.1145 - acc: 0.9832 - val_loss: 0.1677 - val_acc: 0.9689\n",
      "Epoch 20/30\n",
      "45000/45000 [==============================] - 2s 54us/step - loss: 0.1123 - acc: 0.9836 - val_loss: 0.1486 - val_acc: 0.9758\n",
      "Epoch 21/30\n",
      "45000/45000 [==============================] - 2s 55us/step - loss: 0.1114 - acc: 0.9839 - val_loss: 0.1510 - val_acc: 0.9733\n",
      "Epoch 22/30\n",
      "45000/45000 [==============================] - 2s 54us/step - loss: 0.1099 - acc: 0.9839 - val_loss: 0.1545 - val_acc: 0.9731\n",
      "Epoch 23/30\n",
      "45000/45000 [==============================] - 2s 54us/step - loss: 0.1084 - acc: 0.9849 - val_loss: 0.1542 - val_acc: 0.9728\n",
      "Epoch 24/30\n",
      "45000/45000 [==============================] - 2s 55us/step - loss: 0.1092 - acc: 0.9842 - val_loss: 0.1549 - val_acc: 0.9723\n",
      "Epoch 25/30\n",
      "45000/45000 [==============================] - 2s 55us/step - loss: 0.1062 - acc: 0.9857 - val_loss: 0.1761 - val_acc: 0.9670\n",
      "Epoch 26/30\n",
      "45000/45000 [==============================] - 2s 55us/step - loss: 0.1069 - acc: 0.9853 - val_loss: 0.1776 - val_acc: 0.9632\n",
      "Epoch 27/30\n",
      "45000/45000 [==============================] - 2s 54us/step - loss: 0.1060 - acc: 0.9844 - val_loss: 0.1628 - val_acc: 0.9707\n",
      "Epoch 28/30\n",
      "45000/45000 [==============================] - 2s 54us/step - loss: 0.1050 - acc: 0.9854 - val_loss: 0.1479 - val_acc: 0.9735\n",
      "Epoch 29/30\n",
      "45000/45000 [==============================] - 2s 55us/step - loss: 0.1025 - acc: 0.9856 - val_loss: 0.1594 - val_acc: 0.9692\n",
      "Epoch 30/30\n",
      "45000/45000 [==============================] - 2s 54us/step - loss: 0.1021 - acc: 0.9858 - val_loss: 0.1722 - val_acc: 0.9644\n"
     ]
    }
   ],
   "source": [
    "from keras import regularizers\n",
    "\n",
    "network2 = models.Sequential()\n",
    "network2.add(layers.Dense(784, activation='relu', kernel_regularizer=regularizers.l2(0.001), input_shape=(28 * 28, )))\n",
    "network2.add(layers.Dense(784, activation='relu', kernel_regularizer=regularizers.l2(0.001), input_shape=(28 * 28, )))\n",
    "network2.add(layers.Dense(784, activation='relu', kernel_regularizer=regularizers.l2(0.001), input_shape=(28 * 28, )))\n",
    "network2.add(layers.Dense(10, activation='softmax'))\n",
    "\n",
    "network2.compile(optimizer='rmsprop', loss='categorical_crossentropy', metrics=['accuracy'])\n",
    "history = network2.fit(\n",
    "    partial_train_images, \n",
    "    partial_train_labels, \n",
    "    epochs=30, \n",
    "    batch_size=128, \n",
    "    validation_data=(validation_images, validation_labels))"
   ]
  },
  {
   "cell_type": "code",
   "execution_count": 20,
   "metadata": {},
   "outputs": [
    {
     "data": {
      "image/png": "[encoded data removed]",
      "text/plain": [
       "<matplotlib.figure.Figure at 0x7f633ccbc2b0>"
      ]
     },
     "metadata": {},
     "output_type": "display_data"
    },
    {
     "data": {
      "image/png": "[encoded data removed]",
      "text/plain": [
       "<matplotlib.figure.Figure at 0x7f633cd34860>"
      ]
     },
     "metadata": {},
     "output_type": "display_data"
    }
   ],
   "source": [
    "acc = history.history['acc']\n",
    "loss = history.history['loss']\n",
    "val_acc = history.history['val_acc']\n",
    "val_loss = history.history['val_loss']\n",
    "\n",
    "epochs = range(1, len(acc) + 1)\n",
    "\n",
    "plt.plot(epochs[0:], acc[0:], 'bo', label='Training acc')\n",
    "plt.plot(epochs[0:], val_acc[0:], 'b', label='Validation acc')\n",
    "plt.title('Training and validation accuracy')\n",
    "plt.xlabel('Epochs')\n",
    "plt.ylabel('Accuracy')\n",
    "plt.margins(0.05)\n",
    "\n",
    "plt.figure()\n",
    "\n",
    "plt.plot(epochs[0:], loss[0:], 'bo', label='Training loss')\n",
    "plt.plot(epochs[0:], val_loss[0:], 'b', label='Validation loss')\n",
    "plt.title('Training and validation loss')\n",
    "plt.xlabel('Epochs')\n",
    "plt.ylabel('Loss')\n",
    "plt.margins(0.05)\n",
    "\n",
    "plt.show()"
   ]
  },
  {
   "cell_type": "markdown",
   "metadata": {},
   "source": [
    "## Step 6: Regularize the Model and Tune the Hyperparameters"
   ]
  },
  {
   "cell_type": "markdown",
   "metadata": {},
   "source": [
    "This part will take the most time. You will repeatedly modify your model, train it, evaluate on your validation data, modify it again... until your model is as good as it can get.\n",
    "\n",
    "Following are some approaches for improving the model:\n",
    "* Add dropout\n",
    "* Try different architectures, add or remove layers\n",
    "* Add L1 / L2 regularization\n",
    "* Try different hyperparameters to find the optimal cofiguration, e.g.:\n",
    "    * No. of units per layer\n",
    "    * Learning rate of the optimizer\n",
    "* Iterate on feature engineering: add new features, remove features that do not seem informative\n",
    "\n",
    "Be mindful of the following: every time you are using feedback from your validation process in order to tune your model, you are leaking information about your validation process into your model. This can cause overfitting on the validation data.\n",
    "\n",
    "Once you have developed a seemingly good enough model configuration, you can train your final production model on all data available (training and validation) and evaluate it one last time on the test set. Finally, you can save your model to disk, so that it can be reused later."
   ]
  },
  {
   "cell_type": "code",
   "execution_count": 21,
   "metadata": {},
   "outputs": [
    {
     "name": "stdout",
     "output_type": "stream",
     "text": [
      "Epoch 1/14\n",
      "60000/60000 [==============================] - 3s 58us/step - loss: 0.8397 - acc: 0.9135\n",
      "Epoch 2/14\n",
      "60000/60000 [==============================] - 3s 49us/step - loss: 0.2904 - acc: 0.9585\n",
      "Epoch 3/14\n",
      "60000/60000 [==============================] - 3s 50us/step - loss: 0.2216 - acc: 0.9662\n",
      "Epoch 4/14\n",
      "60000/60000 [==============================] - 3s 50us/step - loss: 0.1914 - acc: 0.9711\n",
      "Epoch 5/14\n",
      "60000/60000 [==============================] - 3s 49us/step - loss: 0.1757 - acc: 0.9726\n",
      "Epoch 6/14\n",
      "60000/60000 [==============================] - 3s 50us/step - loss: 0.1613 - acc: 0.9760\n",
      "Epoch 7/14\n",
      "60000/60000 [==============================] - 3s 49us/step - loss: 0.1521 - acc: 0.9770\n",
      "Epoch 8/14\n",
      "60000/60000 [==============================] - 3s 49us/step - loss: 0.1467 - acc: 0.9772\n",
      "Epoch 9/14\n",
      "60000/60000 [==============================] - 3s 50us/step - loss: 0.1404 - acc: 0.9781\n",
      "Epoch 10/14\n",
      "60000/60000 [==============================] - 3s 49us/step - loss: 0.1377 - acc: 0.9785\n",
      "Epoch 11/14\n",
      "60000/60000 [==============================] - 3s 49us/step - loss: 0.1321 - acc: 0.9793\n",
      "Epoch 12/14\n",
      "60000/60000 [==============================] - 3s 49us/step - loss: 0.1303 - acc: 0.9798\n",
      "Epoch 13/14\n",
      "60000/60000 [==============================] - 3s 49us/step - loss: 0.1265 - acc: 0.9808\n",
      "Epoch 14/14\n",
      "60000/60000 [==============================] - 3s 49us/step - loss: 0.1234 - acc: 0.9813\n"
     ]
    }
   ],
   "source": [
    "from keras import regularizers\n",
    "\n",
    "network2 = models.Sequential()\n",
    "network2.add(layers.Dense(784, activation='relu', kernel_regularizer=regularizers.l2(0.001), input_shape=(28 * 28, )))\n",
    "network2.add(layers.Dense(784, activation='relu', kernel_regularizer=regularizers.l2(0.001), input_shape=(28 * 28, )))\n",
    "network2.add(layers.Dense(784, activation='relu', kernel_regularizer=regularizers.l2(0.001), input_shape=(28 * 28, )))\n",
    "network2.add(layers.Dense(10, activation='softmax'))\n",
    "\n",
    "network2.compile(optimizer='rmsprop', loss='categorical_crossentropy', metrics=['accuracy'])\n",
    "history = network2.fit(\n",
    "    train_images, \n",
    "    to_categorical(train_labels), \n",
    "    epochs=14, \n",
    "    batch_size=128)"
   ]
  },
  {
   "cell_type": "code",
   "execution_count": 24,
   "metadata": {},
   "outputs": [
    {
     "name": "stdout",
     "output_type": "stream",
     "text": [
      "10000/10000 [==============================] - 1s 75us/step\n",
      "0.147608546245 0.9743\n"
     ]
    }
   ],
   "source": [
    "test_loss, test_acc = network2.evaluate(test_images, test_labels)"
   ]
  },
  {
   "cell_type": "code",
   "execution_count": 25,
   "metadata": {},
   "outputs": [
    {
     "name": "stdout",
     "output_type": "stream",
     "text": [
      "Test loss: 0.147608546245\n",
      "Test acc: 0.9743\n"
     ]
    },
    {
     "ename": "OSError",
     "evalue": "Unable to create file (unable to open file: name = '../model/00_mnist_basic.h5', errno = 2, error message = 'No such file or directory', flags = 13, o_flags = 242)",
     "output_type": "error",
     "traceback": [
      "\u001b[0;31m---------------------------------------------------------------------------\u001b[0m",
      "\u001b[0;31mOSError\u001b[0m                                   Traceback (most recent call last)",
      "\u001b[0;32m<ipython-input-25-c577e0d08537>\u001b[0m in \u001b[0;36m<module>\u001b[0;34m()\u001b[0m\n\u001b[1;32m      1\u001b[0m \u001b[0mprint\u001b[0m\u001b[0;34m(\u001b[0m\u001b[0;34m'Test loss:'\u001b[0m\u001b[0;34m,\u001b[0m \u001b[0mtest_loss\u001b[0m\u001b[0;34m)\u001b[0m\u001b[0;34m\u001b[0m\u001b[0m\n\u001b[1;32m      2\u001b[0m \u001b[0mprint\u001b[0m\u001b[0;34m(\u001b[0m\u001b[0;34m'Test acc:'\u001b[0m\u001b[0;34m,\u001b[0m \u001b[0mtest_acc\u001b[0m\u001b[0;34m)\u001b[0m\u001b[0;34m\u001b[0m\u001b[0m\n\u001b[0;32m----> 3\u001b[0;31m \u001b[0mnetwork2\u001b[0m\u001b[0;34m.\u001b[0m\u001b[0msave\u001b[0m\u001b[0;34m(\u001b[0m\u001b[0;34m'../model/00_mnist_basic.h5'\u001b[0m\u001b[0;34m)\u001b[0m\u001b[0;34m\u001b[0m\u001b[0m\n\u001b[0m",
      "\u001b[0;32m~/anaconda3/envs/tensorflow_p36/lib/python3.6/site-packages/keras/engine/topology.py\u001b[0m in \u001b[0;36msave\u001b[0;34m(self, filepath, overwrite, include_optimizer)\u001b[0m\n\u001b[1;32m   2554\u001b[0m         \"\"\"\n\u001b[1;32m   2555\u001b[0m         \u001b[0;32mfrom\u001b[0m \u001b[0;34m.\u001b[0m\u001b[0;34m.\u001b[0m\u001b[0mmodels\u001b[0m \u001b[0;32mimport\u001b[0m \u001b[0msave_model\u001b[0m\u001b[0;34m\u001b[0m\u001b[0m\n\u001b[0;32m-> 2556\u001b[0;31m         \u001b[0msave_model\u001b[0m\u001b[0;34m(\u001b[0m\u001b[0mself\u001b[0m\u001b[0;34m,\u001b[0m \u001b[0mfilepath\u001b[0m\u001b[0;34m,\u001b[0m \u001b[0moverwrite\u001b[0m\u001b[0;34m,\u001b[0m \u001b[0minclude_optimizer\u001b[0m\u001b[0;34m)\u001b[0m\u001b[0;34m\u001b[0m\u001b[0m\n\u001b[0m\u001b[1;32m   2557\u001b[0m \u001b[0;34m\u001b[0m\u001b[0m\n\u001b[1;32m   2558\u001b[0m     \u001b[0;32mdef\u001b[0m \u001b[0msave_weights\u001b[0m\u001b[0;34m(\u001b[0m\u001b[0mself\u001b[0m\u001b[0;34m,\u001b[0m \u001b[0mfilepath\u001b[0m\u001b[0;34m,\u001b[0m \u001b[0moverwrite\u001b[0m\u001b[0;34m=\u001b[0m\u001b[0;32mTrue\u001b[0m\u001b[0;34m)\u001b[0m\u001b[0;34m:\u001b[0m\u001b[0;34m\u001b[0m\u001b[0m\n",
      "\u001b[0;32m~/anaconda3/envs/tensorflow_p36/lib/python3.6/site-packages/keras/models.py\u001b[0m in \u001b[0;36msave_model\u001b[0;34m(model, filepath, overwrite, include_optimizer)\u001b[0m\n\u001b[1;32m    101\u001b[0m             \u001b[0;32mreturn\u001b[0m\u001b[0;34m\u001b[0m\u001b[0m\n\u001b[1;32m    102\u001b[0m \u001b[0;34m\u001b[0m\u001b[0m\n\u001b[0;32m--> 103\u001b[0;31m     \u001b[0;32mwith\u001b[0m \u001b[0mh5py\u001b[0m\u001b[0;34m.\u001b[0m\u001b[0mFile\u001b[0m\u001b[0;34m(\u001b[0m\u001b[0mfilepath\u001b[0m\u001b[0;34m,\u001b[0m \u001b[0mmode\u001b[0m\u001b[0;34m=\u001b[0m\u001b[0;34m'w'\u001b[0m\u001b[0;34m)\u001b[0m \u001b[0;32mas\u001b[0m \u001b[0mf\u001b[0m\u001b[0;34m:\u001b[0m\u001b[0;34m\u001b[0m\u001b[0m\n\u001b[0m\u001b[1;32m    104\u001b[0m         \u001b[0mf\u001b[0m\u001b[0;34m.\u001b[0m\u001b[0mattrs\u001b[0m\u001b[0;34m[\u001b[0m\u001b[0;34m'keras_version'\u001b[0m\u001b[0;34m]\u001b[0m \u001b[0;34m=\u001b[0m \u001b[0mstr\u001b[0m\u001b[0;34m(\u001b[0m\u001b[0mkeras_version\u001b[0m\u001b[0;34m)\u001b[0m\u001b[0;34m.\u001b[0m\u001b[0mencode\u001b[0m\u001b[0;34m(\u001b[0m\u001b[0;34m'utf8'\u001b[0m\u001b[0;34m)\u001b[0m\u001b[0;34m\u001b[0m\u001b[0m\n\u001b[1;32m    105\u001b[0m         \u001b[0mf\u001b[0m\u001b[0;34m.\u001b[0m\u001b[0mattrs\u001b[0m\u001b[0;34m[\u001b[0m\u001b[0;34m'backend'\u001b[0m\u001b[0;34m]\u001b[0m \u001b[0;34m=\u001b[0m \u001b[0mK\u001b[0m\u001b[0;34m.\u001b[0m\u001b[0mbackend\u001b[0m\u001b[0;34m(\u001b[0m\u001b[0;34m)\u001b[0m\u001b[0;34m.\u001b[0m\u001b[0mencode\u001b[0m\u001b[0;34m(\u001b[0m\u001b[0;34m'utf8'\u001b[0m\u001b[0;34m)\u001b[0m\u001b[0;34m\u001b[0m\u001b[0m\n",
      "\u001b[0;32m~/anaconda3/envs/tensorflow_p36/lib/python3.6/site-packages/h5py/_hl/files.py\u001b[0m in \u001b[0;36m__init__\u001b[0;34m(self, name, mode, driver, libver, userblock_size, swmr, **kwds)\u001b[0m\n\u001b[1;32m    267\u001b[0m             \u001b[0;32mwith\u001b[0m \u001b[0mphil\u001b[0m\u001b[0;34m:\u001b[0m\u001b[0;34m\u001b[0m\u001b[0m\n\u001b[1;32m    268\u001b[0m                 \u001b[0mfapl\u001b[0m \u001b[0;34m=\u001b[0m \u001b[0mmake_fapl\u001b[0m\u001b[0;34m(\u001b[0m\u001b[0mdriver\u001b[0m\u001b[0;34m,\u001b[0m \u001b[0mlibver\u001b[0m\u001b[0;34m,\u001b[0m \u001b[0;34m**\u001b[0m\u001b[0mkwds\u001b[0m\u001b[0;34m)\u001b[0m\u001b[0;34m\u001b[0m\u001b[0m\n\u001b[0;32m--> 269\u001b[0;31m                 \u001b[0mfid\u001b[0m \u001b[0;34m=\u001b[0m \u001b[0mmake_fid\u001b[0m\u001b[0;34m(\u001b[0m\u001b[0mname\u001b[0m\u001b[0;34m,\u001b[0m \u001b[0mmode\u001b[0m\u001b[0;34m,\u001b[0m \u001b[0muserblock_size\u001b[0m\u001b[0;34m,\u001b[0m \u001b[0mfapl\u001b[0m\u001b[0;34m,\u001b[0m \u001b[0mswmr\u001b[0m\u001b[0;34m=\u001b[0m\u001b[0mswmr\u001b[0m\u001b[0;34m)\u001b[0m\u001b[0;34m\u001b[0m\u001b[0m\n\u001b[0m\u001b[1;32m    270\u001b[0m \u001b[0;34m\u001b[0m\u001b[0m\n\u001b[1;32m    271\u001b[0m                 \u001b[0;32mif\u001b[0m \u001b[0mswmr_support\u001b[0m\u001b[0;34m:\u001b[0m\u001b[0;34m\u001b[0m\u001b[0m\n",
      "\u001b[0;32m~/anaconda3/envs/tensorflow_p36/lib/python3.6/site-packages/h5py/_hl/files.py\u001b[0m in \u001b[0;36mmake_fid\u001b[0;34m(name, mode, userblock_size, fapl, fcpl, swmr)\u001b[0m\n\u001b[1;32m    103\u001b[0m         \u001b[0mfid\u001b[0m \u001b[0;34m=\u001b[0m \u001b[0mh5f\u001b[0m\u001b[0;34m.\u001b[0m\u001b[0mcreate\u001b[0m\u001b[0;34m(\u001b[0m\u001b[0mname\u001b[0m\u001b[0;34m,\u001b[0m \u001b[0mh5f\u001b[0m\u001b[0;34m.\u001b[0m\u001b[0mACC_EXCL\u001b[0m\u001b[0;34m,\u001b[0m \u001b[0mfapl\u001b[0m\u001b[0;34m=\u001b[0m\u001b[0mfapl\u001b[0m\u001b[0;34m,\u001b[0m \u001b[0mfcpl\u001b[0m\u001b[0;34m=\u001b[0m\u001b[0mfcpl\u001b[0m\u001b[0;34m)\u001b[0m\u001b[0;34m\u001b[0m\u001b[0m\n\u001b[1;32m    104\u001b[0m     \u001b[0;32melif\u001b[0m \u001b[0mmode\u001b[0m \u001b[0;34m==\u001b[0m \u001b[0;34m'w'\u001b[0m\u001b[0;34m:\u001b[0m\u001b[0;34m\u001b[0m\u001b[0m\n\u001b[0;32m--> 105\u001b[0;31m         \u001b[0mfid\u001b[0m \u001b[0;34m=\u001b[0m \u001b[0mh5f\u001b[0m\u001b[0;34m.\u001b[0m\u001b[0mcreate\u001b[0m\u001b[0;34m(\u001b[0m\u001b[0mname\u001b[0m\u001b[0;34m,\u001b[0m \u001b[0mh5f\u001b[0m\u001b[0;34m.\u001b[0m\u001b[0mACC_TRUNC\u001b[0m\u001b[0;34m,\u001b[0m \u001b[0mfapl\u001b[0m\u001b[0;34m=\u001b[0m\u001b[0mfapl\u001b[0m\u001b[0;34m,\u001b[0m \u001b[0mfcpl\u001b[0m\u001b[0;34m=\u001b[0m\u001b[0mfcpl\u001b[0m\u001b[0;34m)\u001b[0m\u001b[0;34m\u001b[0m\u001b[0m\n\u001b[0m\u001b[1;32m    106\u001b[0m     \u001b[0;32melif\u001b[0m \u001b[0mmode\u001b[0m \u001b[0;34m==\u001b[0m \u001b[0;34m'a'\u001b[0m\u001b[0;34m:\u001b[0m\u001b[0;34m\u001b[0m\u001b[0m\n\u001b[1;32m    107\u001b[0m         \u001b[0;31m# Open in append mode (read/write).\u001b[0m\u001b[0;34m\u001b[0m\u001b[0;34m\u001b[0m\u001b[0m\n",
      "\u001b[0;32mh5py/_objects.pyx\u001b[0m in \u001b[0;36mh5py._objects.with_phil.wrapper\u001b[0;34m()\u001b[0m\n",
      "\u001b[0;32mh5py/_objects.pyx\u001b[0m in \u001b[0;36mh5py._objects.with_phil.wrapper\u001b[0;34m()\u001b[0m\n",
      "\u001b[0;32mh5py/h5f.pyx\u001b[0m in \u001b[0;36mh5py.h5f.create\u001b[0;34m()\u001b[0m\n",
      "\u001b[0;31mOSError\u001b[0m: Unable to create file (unable to open file: name = '../model/00_mnist_basic.h5', errno = 2, error message = 'No such file or directory', flags = 13, o_flags = 242)"
     ]
    }
   ],
   "source": [
    "print('Test loss:', test_loss)\n",
    "print('Test acc:', test_acc)\n",
    "network2.save('../model/00_mnist_basic.h5')"
   ]
  },
  {
   "cell_type": "code",
   "execution_count": null,
   "metadata": {},
   "outputs": [],
   "source": []
  }
 ],
 "metadata": {
  "kernelspec": {
   "display_name": "Python [conda env:tensorflow_p36]",
   "language": "python",
   "name": "conda-env-tensorflow_p36-py"
  },
  "language_info": {
   "codemirror_mode": {
    "name": "ipython",
    "version": 3
   },
   "file_extension": ".py",
   "mimetype": "text/x-python",
   "name": "python",
   "nbconvert_exporter": "python",
   "pygments_lexer": "ipython3",
   "version": "3.6.3"
  }
 },
 "nbformat": 4,
 "nbformat_minor": 2
}
